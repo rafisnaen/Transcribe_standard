{
 "cells": [
  {
   "cell_type": "code",
   "execution_count": 3,
   "id": "2ba56f27",
   "metadata": {},
   "outputs": [],
   "source": [
    "import pyaudio\n",
    "import wave\n",
    "import os"
   ]
  },
  {
   "cell_type": "code",
   "execution_count": null,
   "id": "d0569f67",
   "metadata": {},
   "outputs": [],
   "source": [
    "# Ambil cwd nya, buat directory wav sm mp3 nya.\n",
    "save_dir = os.getcwd()\n",
    "save_path = os.path.join(save_dir, \"recording.wav\")\n",
    "mp3_path = os.path.join(save_dir, \"recording.mp3\")"
   ]
  },
  {
   "cell_type": "code",
   "execution_count": null,
   "id": "2bb8889b",
   "metadata": {},
   "outputs": [],
   "source": [
    "audio = pyaudio.PyAudio()\n",
    "stream = audio.open(format=pyaudio.paInt16, channels=1, rate=44100, input=True, frames_per_buffer=1024)\n",
    "\n",
    "# Buat array utk simpan frame audionya\n",
    "frames = []"
   ]
  },
  {
   "cell_type": "code",
   "execution_count": null,
   "id": "fe4e7e18",
   "metadata": {},
   "outputs": [],
   "source": [
    "print(\"Recording... Press CTRL+C to stop.\")\n",
    "#ipynb gabisa pakai key interrupt, jadi harus interrupt paksa pas lagi run.\n",
    "\n",
    "try:\n",
    "    while True:\n",
    "        data = stream.read(1024)\n",
    "        \n",
    "        #add data frames ke arraynya sepanjang recordnya jalan.\n",
    "        frames.append(data)\n",
    "except KeyboardInterrupt:\n",
    "    print(\"\\nDone Record.\")\n",
    "\n",
    "stream.stop_stream()\n",
    "stream.close()\n",
    "audio.terminate()"
   ]
  },
  {
   "cell_type": "code",
   "execution_count": null,
   "id": "9ab65e46",
   "metadata": {},
   "outputs": [],
   "source": [
    "#Buat file wav kosong di directory yg uda dibuat, \n",
    "sound_file = wave.open(save_path, \"wb\")\n",
    "sound_file.setnchannels(1)\n",
    "sound_file.setsampwidth(audio.get_sample_size(pyaudio.paInt16))\n",
    "sound_file.setframerate(44100) # -> 44.1kbps\n",
    "\n",
    "#Merge semua frame yang uda dibuat, isi ke file wav yang kosong td.\n",
    "sound_file.writeframes(b''.join(frames))\n",
    "sound_file.close()\n",
    "\n",
    "print(f\"File saved in: {save_path}\")"
   ]
  },
  {
   "cell_type": "code",
   "execution_count": null,
   "id": "b93c8473",
   "metadata": {},
   "outputs": [],
   "source": [
    "#Convert WAV ke MP3 supaya bisa diretrieve ke whisper.\n",
    "from pydub import AudioSegment\n",
    "\n",
    "#Buka file WAV\n",
    "sound = AudioSegment.from_wav(save_path)\n",
    "\n",
    "#Simpan as MP3\n",
    "sound.export(mp3_path, format=\"mp3\")\n",
    "\n",
    "print(f\"File MP3 saved in: {mp3_path}\")"
   ]
  }
 ],
 "metadata": {
  "kernelspec": {
   "display_name": "prototype",
   "language": "python",
   "name": "python3"
  },
  "language_info": {
   "codemirror_mode": {
    "name": "ipython",
    "version": 3
   },
   "file_extension": ".py",
   "mimetype": "text/x-python",
   "name": "python",
   "nbconvert_exporter": "python",
   "pygments_lexer": "ipython3",
   "version": "3.11.11"
  }
 },
 "nbformat": 4,
 "nbformat_minor": 5
}
